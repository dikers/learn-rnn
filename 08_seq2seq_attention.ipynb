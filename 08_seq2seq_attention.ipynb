{
 "cells": [
  {
   "cell_type": "markdown",
   "metadata": {},
   "source": [
    "# Encoder Decoder 解决翻译问题\n",
    "\n",
    "翻译问题的解决方案 使用 EncoderDecoder attention模型, 是一种多对多RNN模型。 \n",
    "\n",
    "./datasets/spa.txt 是一个英语到西班牙语的对应文件, 有 118964条数据\n",
    "\n",
    "```\n",
    "#下载路径\n",
    "\n",
    "cd datasets\n",
    "wget https://dikers-data.s3.cn-northwest-1.amazonaws.com.cn/dataset/spa.txt\n",
    "```\n",
    "\n",
    "\n",
    "\n",
    "```\n",
    "<start>i m very sad .<end> <------> <start>estoy muy triste .<end>\n",
    "<start>i m with him .<end> <------> <start>estoy con el .<end>\n",
    "<start>i m worn out .<end> <------> <start>estoy exhausto .<end>\n",
    "<start>i ve lost it .<end> <------> <start>lo he perdido .<end>\n",
    "<start>i ve seen it .<end> <------> <start>lo he visto .<end>\n",
    "<start>ice is solid .<end> <------> <start>el hielo es solido .<end>\n",
    "<start>iron is hard .<end> <------> <start>el hierro es duro .<end>\n",
    "<start>is monday ok ?<end> <------> <start>¿ esta bien el lunes ?<end>\n",
    "<start>is tom cured ?<end> <------> <start>¿ esta tom curado ?<end>\n",
    "<start>is tom drunk ?<end> <------> <start>¿ tom esta borracho ?<end>\n",
    "<start>is tom lucid ?<end> <------> <start>¿ tom es lucido ?<end>\n",
    "<start>is tom there ?<end> <------> <start>¿ esta ahi tom ?<end>\n",
    "<start>is it a deer ?<end> <------> <start>¿ eso es un ciervo ?<end>\n",
    "```"
   ]
  },
  {
   "cell_type": "code",
   "execution_count": 26,
   "metadata": {
    "cellView": "form",
    "colab": {},
    "colab_type": "code",
    "id": "uBDvXpYzYnGj"
   },
   "outputs": [
    {
     "name": "stdout",
     "output_type": "stream",
     "text": [
      "tf    version: 1.14.0\n",
      "keras version: 2.2.4-tf\n",
      "matplotlib 3.0.3\n",
      "numpy 1.16.4\n",
      "pandas 0.24.2\n",
      "sklearn 0.21.2\n",
      "tensorflow 1.14.0\n",
      "tensorflow.python.keras.api._v1.keras 2.2.4-tf\n",
      "GPU :  True\n"
     ]
    }
   ],
   "source": [
    "import matplotlib as mpl\n",
    "import matplotlib.pyplot as plt\n",
    "%matplotlib inline\n",
    "import numpy as np\n",
    "import sklearn\n",
    "import pandas as pd\n",
    "import os\n",
    "import sys\n",
    "import time\n",
    "import tensorflow as tf\n",
    "from tensorflow import keras\n",
    "print('tf    version: {}'.format(tf.__version__) )\n",
    "print('keras version: {}'.format(keras.__version__) )\n",
    "for module in mpl, np, pd, sklearn, tf, keras:\n",
    "    print(module.__name__, module.__version__)\n",
    "tf.enable_eager_execution(\n",
    "    config=None,\n",
    "    device_policy=None,\n",
    "    execution_mode=None\n",
    ")\n",
    "print('GPU : ', tf.test.is_gpu_available())\n"
   ]
  },
  {
   "cell_type": "code",
   "execution_count": 10,
   "metadata": {},
   "outputs": [],
   "source": [
    "import re\n",
    "import unicodedata\n",
    "\n",
    "en_spa_file_path = './datasets/spa.txt'\n",
    "\n",
    "def unicode_to_ascii(s):\n",
    "    return ''.join(c for c in unicodedata.normalize('NFD', s) if unicodedata.category(c) != 'Mn')\n",
    "\n"
   ]
  },
  {
   "cell_type": "markdown",
   "metadata": {},
   "source": [
    "![image](https://pic1.zhimg.com/80/v2-1227cc0c1099fdcbf16f6e2886db60ec_1440w.jpg)"
   ]
  },
  {
   "cell_type": "code",
   "execution_count": 11,
   "metadata": {},
   "outputs": [
    {
     "name": "stdout",
     "output_type": "stream",
     "text": [
      "Got it?\n",
      "¿Entendiste?\n"
     ]
    }
   ],
   "source": [
    "# Got it?\t¿Entendiste?\n",
    "\n",
    "en_sentence = 'Got it?'\n",
    "sp_sentence = '¿Entendiste?'\n",
    "\n",
    "print(unicode_to_ascii(en_sentence))\n",
    "print(unicode_to_ascii(sp_sentence))"
   ]
  },
  {
   "cell_type": "code",
   "execution_count": 12,
   "metadata": {},
   "outputs": [
    {
     "name": "stdout",
     "output_type": "stream",
     "text": [
      "<start>¿ entendiste ?<end>\n"
     ]
    }
   ],
   "source": [
    "def preprocess_setence(s):\n",
    "    s = unicode_to_ascii(s.lower().strip())\n",
    "    s = re.sub(r\"([?.!,¿])\", r\" \\1 \", s)\n",
    "    s = re.sub(r'[\" \"]+', \" \" , s)\n",
    "    s = re.sub(r'[^a-zA-z?.!,¿]', \" \", s)\n",
    "    s = s.rstrip().strip()\n",
    "    s = '<start>' + s + '<end>'\n",
    "    \n",
    "    return s\n",
    "print(preprocess_setence(sp_sentence))"
   ]
  },
  {
   "cell_type": "code",
   "execution_count": 14,
   "metadata": {},
   "outputs": [],
   "source": [
    "def parse_data(filename):\n",
    "    lines = open(filename, encoding='UTF-8').read().strip().split('\\n')\n",
    "    sentence_pairs = [line.split('\\t') for line in lines]\n",
    "    preprocessed_sentence_pairs = [\n",
    "        (preprocess_setence(en), preprocess_setence(sp)) for en, sp in sentence_pairs]\n",
    "    \n",
    "    return zip(*preprocessed_sentence_pairs) \n",
    "    \n",
    "en_dataset, sp_dataset = parse_data(en_spa_file_path)"
   ]
  },
  {
   "cell_type": "code",
   "execution_count": 6,
   "metadata": {},
   "outputs": [
    {
     "name": "stdout",
     "output_type": "stream",
     "text": [
      "(1, 3, 5) (2, 4, 6)\n"
     ]
    }
   ],
   "source": [
    "a = [(1, 2), (3, 4), (5, 6)]\n",
    "c, d = zip(*a)\n",
    "print(c, d)"
   ]
  },
  {
   "cell_type": "code",
   "execution_count": 28,
   "metadata": {},
   "outputs": [
    {
     "name": "stdout",
     "output_type": "stream",
     "text": [
      "118964\n",
      "<start>tom was terrified .<end> <------> <start>tom estaba aterrorizado .<end>\n",
      "<start>tom was very busy .<end> <------> <start>tom estaba muy ocupado .<end>\n",
      "<start>tom was with mary .<end> <------> <start>tom estaba con mary .<end>\n",
      "<start>tom wasn t afraid .<end> <------> <start>tom no tenia miedo .<end>\n",
      "<start>tom wasn t honest .<end> <------> <start>tom no fue honesto .<end>\n"
     ]
    }
   ],
   "source": [
    "print(len(en_dataset))\n",
    "for i  in range(5):\n",
    "    print('{} <------> {}'.format(en_dataset[i+15000] , sp_dataset[i+15000]))"
   ]
  },
  {
   "cell_type": "code",
   "execution_count": 9,
   "metadata": {},
   "outputs": [
    {
     "name": "stdout",
     "output_type": "stream",
     "text": [
      "9 14\n"
     ]
    }
   ],
   "source": [
    "def max_length(tensor):\n",
    "    return max(len(t) for t in tensor)\n",
    "def tokenizer(lang):\n",
    "    lang_tokenizer = keras.preprocessing.text.Tokenizer(\n",
    "        num_words=None, filters='', split=' ')\n",
    "    lang_tokenizer.fit_on_texts(lang)\n",
    "    \n",
    "    tensor = lang_tokenizer.texts_to_sequences(lang)\n",
    "    tensor = tf.keras.preprocessing.sequence.pad_sequences(tensor, padding='post')\n",
    "    \n",
    "    return tensor, lang_tokenizer\n",
    "\n",
    "num_examples = 30000\n",
    "input_tensor, input_tokenizer = tokenizer(sp_dataset[0:num_examples])\n",
    "output_tensor, output_tokerizer = tokenizer(en_dataset[0:num_examples])\n",
    "\n",
    "# Calculate max_length of the target tensors\n",
    "max_length_targ, max_length_inp = max_length(output_tensor), max_length(input_tensor)\n",
    "\n",
    "print(max_length_targ, max_length_inp)\n"
   ]
  },
  {
   "cell_type": "code",
   "execution_count": 10,
   "metadata": {},
   "outputs": [
    {
     "data": {
      "text/plain": [
       "(24000, 6000, 24000, 6000)"
      ]
     },
     "execution_count": 10,
     "metadata": {},
     "output_type": "execute_result"
    }
   ],
   "source": [
    "from sklearn.model_selection import train_test_split\n",
    "input_train, input_val, output_train, output_val = train_test_split(input_tensor, output_tensor, test_size=0.2)\n",
    "\n",
    "# Show length\n",
    "len(input_train), len(input_val), len(output_train), len(output_val)"
   ]
  },
  {
   "cell_type": "code",
   "execution_count": 11,
   "metadata": {},
   "outputs": [
    {
     "name": "stdout",
     "output_type": "stream",
     "text": [
      "     192 --> <start>odio\n",
      "     131 --> estar\n",
      "    1761 --> soltera\n",
      "       1 --> .<end>\n",
      "\n",
      "       2 --> <start>i\n",
      "     135 --> hate\n",
      "     505 --> being\n",
      "     683 --> single\n",
      "       1 --> .<end>\n"
     ]
    }
   ],
   "source": [
    "def conver(example, tokenizer):\n",
    "    for t in example:\n",
    "        if t!=0:\n",
    "            print('%8d --> %s'%(t, tokenizer.index_word[t]))\n",
    "            \n",
    "conver(input_train[0], input_tokenizer)\n",
    "print('')\n",
    "conver(output_train[0], output_tokerizer)"
   ]
  },
  {
   "cell_type": "code",
   "execution_count": 12,
   "metadata": {},
   "outputs": [],
   "source": [
    "def make_dataset(input_train, output_train,batch_size, epochs, shuffle=True ):\n",
    "    \n",
    "    dataset = tf.data.Dataset.from_tensor_slices((input_train, output_train))\n",
    "    if shuffle:\n",
    "        dataset = dataset.shuffle(num_examples)\n",
    "    \n",
    "    dataset = dataset.repeat(epochs).batch(batch_size, drop_remainder=True)\n",
    "    return dataset"
   ]
  },
  {
   "cell_type": "code",
   "execution_count": 13,
   "metadata": {},
   "outputs": [],
   "source": [
    "batch_size = 64\n",
    "epochs = 20\n",
    "train_dataset = make_dataset(input_train, output_train, batch_size, epochs, True)\n",
    "val_dataset = make_dataset(input_val, output_val, batch_size, 1, False)"
   ]
  },
  {
   "cell_type": "code",
   "execution_count": 14,
   "metadata": {},
   "outputs": [],
   "source": [
    "embedding_units = 256\n",
    "units = 1024\n",
    "input_vocab_size = len(input_tokenizer.word_index)+1\n",
    "output_vocab_size = len(output_tokerizer.word_index)+1"
   ]
  },
  {
   "cell_type": "code",
   "execution_count": 15,
   "metadata": {},
   "outputs": [
    {
     "data": {
      "text/plain": [
       "(TensorShape([Dimension(64), Dimension(14)]),\n",
       " TensorShape([Dimension(64), Dimension(9)]))"
      ]
     },
     "execution_count": 15,
     "metadata": {},
     "output_type": "execute_result"
    }
   ],
   "source": [
    "example_input_batch, example_target_batch = next(iter(train_dataset))\n",
    "example_input_batch.shape, example_target_batch.shape"
   ]
  },
  {
   "cell_type": "code",
   "execution_count": 16,
   "metadata": {},
   "outputs": [
    {
     "name": "stdout",
     "output_type": "stream",
     "text": [
      "sample_output (64, 14, 1024)\n",
      "sample_hidden (64, 1024)\n"
     ]
    }
   ],
   "source": [
    "class Encoder(keras.Model):\n",
    "    def __init__(self, vocab_size, embedding_units, encoding_units, batch_size):\n",
    "        super(Encoder, self).__init__()\n",
    "        \n",
    "        self.batch_size = batch_size\n",
    "        self.encoding_units = encoding_units\n",
    "        self.embedding = keras.layers.Embedding(vocab_size, embedding_units)\n",
    "        \n",
    "        self.gru = keras.layers.GRU(self.encoding_units, \n",
    "                                return_sequences=True,\n",
    "                                return_state = True, \n",
    "                                recurrent_initializer='glorot_uniform')\n",
    "    \n",
    "    def call(self, x, hidden):\n",
    "        x = self.embedding(x)\n",
    "        output, state = self.gru(x, initial_state = hidden)\n",
    "        return output, state\n",
    "\n",
    "    def initialize_hidden_state(self):\n",
    "        return tf.zeros((self.batch_size, self.encoding_units))\n",
    "    \n",
    "    \n",
    "encoder = Encoder(input_vocab_size, embedding_units, units, batch_size)\n",
    "\n",
    "sample_hidden = encoder.initialize_hidden_state()\n",
    "\n",
    "sample_output, sample_hidden = encoder(example_input_batch, sample_hidden)\n",
    "\n",
    "print(\"sample_output\", sample_output.shape)\n",
    "print(\"sample_hidden\", sample_hidden.shape)"
   ]
  },
  {
   "cell_type": "code",
   "execution_count": 17,
   "metadata": {},
   "outputs": [
    {
     "name": "stdout",
     "output_type": "stream",
     "text": [
      "Attention result shape: (batch size, units) (64, 1024)\n",
      "Attention weights shape: (batch_size, sequence_length, 1) (64, 14, 1)\n"
     ]
    }
   ],
   "source": [
    "class BahdanauAttention(keras.Model):\n",
    "    def __init__(self, units):\n",
    "        super(BahdanauAttention, self).__init__()\n",
    "        self.W1 = tf.keras.layers.Dense(units)\n",
    "        self.W2 = tf.keras.layers.Dense(units)\n",
    "        self.V = tf.keras.layers.Dense(1)\n",
    "    \n",
    "    def call(self, query, values):\n",
    "        hidden_with_time_axis = tf.expand_dims(query, 1)\n",
    "\n",
    "        # score shape == (batch_size, max_length, 1)\n",
    "        # we get 1 at the last axis because we are applying score to self.V\n",
    "        # the shape of the tensor before applying self.V is (batch_size, max_length, units)\n",
    "        score = self.V(tf.nn.tanh(self.W1(values) + self.W2(hidden_with_time_axis)))\n",
    "        # attention_weights shape == (batch_size, max_length, 1)\n",
    "        attention_weights = tf.nn.softmax(score, axis=1)\n",
    "        context_vector = attention_weights * values\n",
    "        context_vector = tf.reduce_sum(context_vector, axis=1)\n",
    "\n",
    "        return context_vector, attention_weights\n",
    "    \n",
    "attention_layer = BahdanauAttention(10)\n",
    "attention_result, attention_weights = attention_layer(sample_hidden, sample_output)\n",
    "\n",
    "print(\"Attention result shape: (batch size, units) {}\".format(attention_result.shape))\n",
    "print(\"Attention weights shape: (batch_size, sequence_length, 1) {}\".format(attention_weights.shape))"
   ]
  },
  {
   "cell_type": "code",
   "execution_count": 18,
   "metadata": {},
   "outputs": [
    {
     "name": "stdout",
     "output_type": "stream",
     "text": [
      "Decoder output shape: (batch_size, vocab size) (64, 5433)\n"
     ]
    }
   ],
   "source": [
    "class Decoder(keras.Model):\n",
    "    def __init__(self, vocab_size, embedding_dim, decoding_units, batch_size):\n",
    "        super(Decoder, self).__init__()\n",
    "        self.batch_size = batch_size\n",
    "        self.decoding_units = decoding_units\n",
    "        self.embedding = keras.layers.Embedding(vocab_size, embedding_dim)\n",
    "        self.gru = keras.layers.GRU(self.decoding_units,\n",
    "                                    return_sequences=True,\n",
    "                                    return_state=True,\n",
    "                                    recurrent_initializer='glorot_uniform')\n",
    "        self.fc = keras.layers.Dense(vocab_size)\n",
    "        self.attention = BahdanauAttention(self.decoding_units)\n",
    "        \n",
    "    def call(self, x, hidden, encoding_output):\n",
    "        # enc_output shape == (batch_size, max_length, hidden_size)\n",
    "        context_vector, attention_weights = self.attention(hidden, encoding_output)\n",
    "\n",
    "        # x shape after passing through embedding == (batch_size, 1, embedding_dim)\n",
    "        x = self.embedding(x)\n",
    "\n",
    "        # x shape after concatenation == (batch_size, 1, embedding_dim + hidden_size)\n",
    "        x = tf.concat([tf.expand_dims(context_vector, 1), x], axis=-1)\n",
    "\n",
    "        # passing the concatenated vector to the GRU\n",
    "        output, state = self.gru(x)\n",
    "\n",
    "        # output shape == (batch_size * 1, hidden_size)\n",
    "        output = tf.reshape(output, (-1, output.shape[2]))\n",
    "\n",
    "        # output shape == (batch_size, vocab)\n",
    "        x = self.fc(output)\n",
    "\n",
    "        return x, state, attention_weights\n",
    "decoder = Decoder(output_vocab_size, embedding_units, units, batch_size)\n",
    "sample_decoder_output, _, _ = decoder(tf.random.uniform((64, 1)),\n",
    "                                      sample_hidden, sample_output)\n",
    "print ('Decoder output shape: (batch_size, vocab size) {}'.format(sample_decoder_output.shape))    "
   ]
  },
  {
   "cell_type": "code",
   "execution_count": 19,
   "metadata": {},
   "outputs": [],
   "source": [
    "optimizer = keras.optimizers.Adam()\n",
    "loss_object = keras.losses.SparseCategoricalCrossentropy(from_logits=True, reduction='none')\n",
    "\n",
    "def loss_function(real, pred):\n",
    "    mask = tf.math.logical_not(tf.math.equal(real, 0))\n",
    "    loss_ = loss_object(real, pred)\n",
    "\n",
    "    mask = tf.cast(mask, dtype=loss_.dtype)\n",
    "    loss_ *= mask\n",
    "\n",
    "    return tf.reduce_mean(loss_)\n",
    "\n",
    "checkpoint_dir = './output/15_checkpoints'\n",
    "if not os.path.exists(checkpoint_dir):\n",
    "    os.mkdir(checkpoint_dir)\n",
    "checkpoint_prefix = os.path.join(checkpoint_dir, \"ckpt\")\n",
    "checkpoint = tf.train.Checkpoint(optimizer=optimizer,\n",
    "                                 encoder=encoder,\n",
    "                                 decoder=decoder)"
   ]
  },
  {
   "cell_type": "code",
   "execution_count": 20,
   "metadata": {},
   "outputs": [],
   "source": [
    "def train_step(inp, targ, encoding_hidden):\n",
    "    loss = 0\n",
    "\n",
    "    with tf.GradientTape() as tape:\n",
    "        encoding_output, encoding_hidden = encoder(inp, encoding_hidden)\n",
    "\n",
    "        decoding_hidden = encoding_hidden\n",
    "\n",
    "#         decoding_input = tf.expand_dims([targ.word_index['<start>']] * BATCH_SIZE, 1)\n",
    "\n",
    "        # Teacher forcing - feeding the target as the next input\n",
    "        for t in range(0, targ.shape[1] -1):\n",
    "            decoding_input = tf.expand_dims(targ[:, t], 1)\n",
    "            \n",
    "            predictions, decoding_hidden, _ = \\\n",
    "            decoder(decoding_input, decoding_hidden, encoding_output)\n",
    "\n",
    "            loss += loss_function(targ[:, t+1], predictions)\n",
    "\n",
    "            # using teacher forcing\n",
    "#             decoding_input = tf.expand_dims(targ[:, t], 1)\n",
    "\n",
    "    batch_loss = (loss / int(targ.shape[0]))\n",
    "    variables = encoder.trainable_variables + decoder.trainable_variables\n",
    "    gradients = tape.gradient(loss, variables)\n",
    "    optimizer.apply_gradients(zip(gradients, variables))\n",
    "    return batch_loss"
   ]
  },
  {
   "cell_type": "code",
   "execution_count": 21,
   "metadata": {},
   "outputs": [
    {
     "name": "stdout",
     "output_type": "stream",
     "text": [
      "WARNING:tensorflow:From /home/ec2-user/anaconda3/envs/tensorflow_p36/lib/python3.6/site-packages/tensorflow/python/ops/math_grad.py:1220: add_dispatch_support.<locals>.wrapper (from tensorflow.python.ops.array_ops) is deprecated and will be removed in a future version.\n",
      "Instructions for updating:\n",
      "Use tf.where in 2.0, which has the same broadcast rule as np.where\n",
      "Epoch 1 Batch 0 Loss 0.5522\n",
      "Epoch 1 Batch 100 Loss 0.2970\n",
      "Epoch 1 Batch 200 Loss 0.2707\n",
      "Epoch 1 Batch 300 Loss 0.2564\n",
      "Epoch 1 Loss 0.2872\n",
      "Time taken for 1 epoch 174.42540216445923 sec\n",
      "\n",
      "Epoch 2 Batch 0 Loss 0.2530\n",
      "Epoch 2 Batch 100 Loss 0.2076\n",
      "Epoch 2 Batch 200 Loss 0.1988\n",
      "Epoch 2 Batch 300 Loss 0.1924\n",
      "Epoch 2 Loss 0.2051\n",
      "Time taken for 1 epoch 174.7465364933014 sec\n",
      "\n",
      "Epoch 3 Batch 0 Loss 0.1910\n",
      "Epoch 3 Batch 100 Loss 0.1566\n",
      "Epoch 3 Batch 200 Loss 0.1478\n",
      "Epoch 3 Batch 300 Loss 0.1420\n",
      "Epoch 3 Loss 0.1539\n",
      "Time taken for 1 epoch 174.30358695983887 sec\n",
      "\n",
      "Epoch 4 Batch 0 Loss 0.1337\n",
      "Epoch 4 Batch 100 Loss 0.1118\n",
      "Epoch 4 Batch 200 Loss 0.1068\n",
      "Epoch 4 Batch 300 Loss 0.1037\n",
      "Epoch 4 Loss 0.1087\n",
      "Time taken for 1 epoch 174.7017800807953 sec\n",
      "\n",
      "Epoch 5 Batch 0 Loss 0.0840\n",
      "Epoch 5 Batch 100 Loss 0.0795\n",
      "Epoch 5 Batch 200 Loss 0.0683\n",
      "Epoch 5 Batch 300 Loss 0.0703\n",
      "Epoch 5 Loss 0.0729\n",
      "Time taken for 1 epoch 173.79248571395874 sec\n",
      "\n",
      "Epoch 6 Batch 0 Loss 0.0512\n",
      "Epoch 6 Batch 100 Loss 0.0543\n",
      "Epoch 6 Batch 200 Loss 0.0481\n",
      "Epoch 6 Batch 300 Loss 0.0484\n",
      "Epoch 6 Loss 0.0478\n",
      "Time taken for 1 epoch 174.00221800804138 sec\n",
      "\n",
      "Epoch 7 Batch 0 Loss 0.0339\n",
      "Epoch 7 Batch 100 Loss 0.0342\n",
      "Epoch 7 Batch 200 Loss 0.0319\n",
      "Epoch 7 Batch 300 Loss 0.0292\n",
      "Epoch 7 Loss 0.0317\n",
      "Time taken for 1 epoch 174.18932509422302 sec\n",
      "\n",
      "Epoch 8 Batch 0 Loss 0.0192\n",
      "Epoch 8 Batch 100 Loss 0.0246\n",
      "Epoch 8 Batch 200 Loss 0.0241\n",
      "Epoch 8 Batch 300 Loss 0.0179\n",
      "Epoch 8 Loss 0.0219\n",
      "Time taken for 1 epoch 174.4956362247467 sec\n",
      "\n",
      "Epoch 9 Batch 0 Loss 0.0168\n",
      "Epoch 9 Batch 100 Loss 0.0161\n",
      "Epoch 9 Batch 200 Loss 0.0153\n",
      "Epoch 9 Batch 300 Loss 0.0147\n",
      "Epoch 9 Loss 0.0162\n",
      "Time taken for 1 epoch 174.22920155525208 sec\n",
      "\n",
      "Epoch 10 Batch 0 Loss 0.0128\n",
      "Epoch 10 Batch 100 Loss 0.0144\n",
      "Epoch 10 Batch 200 Loss 0.0145\n",
      "Epoch 10 Batch 300 Loss 0.0112\n",
      "Epoch 10 Loss 0.0129\n",
      "Time taken for 1 epoch 173.84123277664185 sec\n",
      "\n"
     ]
    }
   ],
   "source": [
    "\n",
    "\n",
    "EPOCHS = 10\n",
    "steps_per_epoch = len(input_train)//batch_size\n",
    "for epoch in range(EPOCHS):\n",
    "    start = time.time()\n",
    "\n",
    "    encoding_hidden = encoder.initialize_hidden_state()\n",
    "    total_loss = 0\n",
    "\n",
    "    for (batch, (inp, targ)) in enumerate(train_dataset.take(steps_per_epoch)):\n",
    "        batch_loss = train_step(inp, targ, encoding_hidden)\n",
    "        total_loss += batch_loss\n",
    "\n",
    "        if batch % 100 == 0:\n",
    "            print('Epoch {} Batch {} Loss {:.4f}'.format(epoch + 1, batch, \n",
    "                                        batch_loss.numpy()))\n",
    "    # saving (checkpoint) the model every 2 epochs\n",
    "    if (epoch + 1) % 2 == 0:\n",
    "        checkpoint.save(file_prefix = checkpoint_prefix)\n",
    "\n",
    "    print('Epoch {} Loss {:.4f}'.format(epoch + 1, total_loss / steps_per_epoch))\n",
    "    print('Time taken for 1 epoch {} sec\\n'.format(time.time() - start))"
   ]
  },
  {
   "cell_type": "code",
   "execution_count": 22,
   "metadata": {},
   "outputs": [
    {
     "data": {
      "text/plain": [
       "<tensorflow.python.training.tracking.util.CheckpointLoadStatus at 0x7fc54cd430f0>"
      ]
     },
     "execution_count": 22,
     "metadata": {},
     "output_type": "execute_result"
    }
   ],
   "source": [
    "def evaluate(sentence):\n",
    "    attention_plot = np.zeros((max_length_targ, max_length_inp))\n",
    "    sentence = preprocess_sentence(sentence)\n",
    "\n",
    "    inputs = [inp_lang.word_index[i] for i in sentence.split(' ')]\n",
    "    inputs = keras.preprocessing.sequence.pad_sequences([inputs], maxlen=max_length_inp, padding='post')\n",
    "    inputs = tf.convert_to_tensor(inputs)\n",
    "\n",
    "    result = ''\n",
    "\n",
    "    hidden = [tf.zeros((1, units))]\n",
    "    encoding_out, encoding_hidden = encoder(inputs, hidden)\n",
    "\n",
    "    decoding_hidden = encoding_hidden\n",
    "    decoding_input = tf.expand_dims([targ_lang.word_index['<start>']], 0)\n",
    "\n",
    "    for t in range(max_length_targ):\n",
    "        predictions, decoding_hidden, attention_weights = decoder(\n",
    "            decoding_input, decoding_hidden, encoding_out)\n",
    "\n",
    "        # storing the attention weights to plot later on\n",
    "        attention_weights = tf.reshape(attention_weights, (-1, ))\n",
    "        attention_plot[t] = attention_weights.numpy()\n",
    "\n",
    "        predicted_id = tf.argmax(predictions[0]).numpy()\n",
    "\n",
    "        result += targ_lang.index_word[predicted_id] + ' '\n",
    "\n",
    "        if targ_lang.index_word[predicted_id] == '<end>':\n",
    "            return result, sentence, attention_plot\n",
    "\n",
    "        # the predicted ID is fed back into the model\n",
    "        decoding_input = tf.expand_dims([predicted_id], 0)\n",
    "\n",
    "    return result, sentence, attention_plot\n",
    "\n",
    "# function for plotting the attention weights\n",
    "def plot_attention(attention, sentence, predicted_sentence):\n",
    "    fig = plt.figure(figsize=(10,10))\n",
    "    ax = fig.add_subplot(1, 1, 1)\n",
    "    ax.matshow(attention, cmap='viridis')\n",
    "\n",
    "    fontdict = {'fontsize': 14}\n",
    "\n",
    "    ax.set_xticklabels([''] + sentence, fontdict=fontdict, rotation=90)\n",
    "    ax.set_yticklabels([''] + predicted_sentence, fontdict=fontdict)\n",
    "\n",
    "    plt.show()\n",
    "    \n",
    "def translate(sentence):\n",
    "    result, sentence, attention_plot = evaluate(sentence)\n",
    "\n",
    "    print('Input: %s' % (sentence))\n",
    "    print('Predicted translation: {}'.format(result))\n",
    "\n",
    "    attention_plot = attention_plot[:len(result.split(' ')), :len(sentence.split(' '))]\n",
    "    plot_attention(attention_plot, sentence.split(' '), result.split(' '))\n",
    "    \n",
    "\n",
    "checkpoint.restore(tf.train.latest_checkpoint(checkpoint_dir))"
   ]
  }
 ],
 "metadata": {
  "colab": {
   "collapsed_sections": [
    "pL--_KGdYoBz"
   ],
   "name": "tfrecord.ipynb",
   "private_outputs": true,
   "provenance": [],
   "toc_visible": true
  },
  "kernelspec": {
   "display_name": "Python [conda env:tensorflow_p36]",
   "language": "python",
   "name": "conda-env-tensorflow_p36-py"
  },
  "language_info": {
   "codemirror_mode": {
    "name": "ipython",
    "version": 3
   },
   "file_extension": ".py",
   "mimetype": "text/x-python",
   "name": "python",
   "nbconvert_exporter": "python",
   "pygments_lexer": "ipython3",
   "version": "3.6.5"
  }
 },
 "nbformat": 4,
 "nbformat_minor": 2
}
