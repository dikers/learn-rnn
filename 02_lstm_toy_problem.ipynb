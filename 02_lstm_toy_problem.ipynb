{
 "cells": [
  {
   "cell_type": "markdown",
   "metadata": {},
   "source": [
    "#  演示LSTM 的长期和短期记忆能力\n",
    "\n"
   ]
  },
  {
   "cell_type": "markdown",
   "metadata": {},
   "source": [
    "以下是两组数据， 每组是一个长度为T=10的二维数组， y = sum( s * m)\n",
    "\n",
    "让网络发现规律， 将T的长度放到200的时间序列上， LSTM 可以记住很久之前的m=1的信息， 普通的RNN 就不可以。 \n",
    "\n",
    "```\n",
    " s=0.7581\tm=1\n",
    " s=0.7010\tm=0\n",
    " s=0.1807\tm=0\n",
    " s=0.8387\tm=0\n",
    " s=0.6760\tm=0\n",
    " s=0.3419\tm=0\n",
    " s=0.0420\tm=0\n",
    " s=0.8913\tm=0\n",
    " s=0.3688\tm=1\n",
    " s=0.8188\tm=0\n",
    "\n",
    "0 -------------------   y = 1.1269\n",
    "\n",
    " s=0.9082\tm=1\n",
    " s=0.9442\tm=0\n",
    " s=0.3360\tm=0\n",
    " s=0.1787\tm=1\n",
    " s=0.4837\tm=0\n",
    " s=0.2405\tm=0\n",
    " s=0.3342\tm=0\n",
    " s=0.0777\tm=0\n",
    " s=0.7213\tm=0\n",
    " s=0.5738\tm=0\n",
    "1 -------------------   y = 1.0869\n",
    "\n",
    "```\n",
    "\n"
   ]
  },
  {
   "cell_type": "code",
   "execution_count": 1,
   "metadata": {},
   "outputs": [
    {
     "name": "stdout",
     "output_type": "stream",
     "text": [
      "1.14.0\n"
     ]
    }
   ],
   "source": [
    "from sklearn import datasets\n",
    "import numpy as np\n",
    "import pandas as pd\n",
    "%matplotlib inline\n",
    "import matplotlib as mpl\n",
    "import matplotlib.pyplot as plt\n",
    "from sklearn.model_selection import train_test_split\n",
    "from sklearn.utils import shuffle\n",
    "import tensorflow as tf\n",
    "print(tf.__version__)\n"
   ]
  },
  {
   "cell_type": "markdown",
   "metadata": {},
   "source": [
    "## 制作玩具数据集"
   ]
  },
  {
   "cell_type": "code",
   "execution_count": 2,
   "metadata": {},
   "outputs": [],
   "source": [
    "def mask(T=200):\n",
    "    mask = np.zeros(T)\n",
    "    indices = np.random.permutation(np.arange(T))[:2]\n",
    "    \n",
    "    mask[indices] = 1\n",
    "    return mask\n",
    "\n",
    "def toy_problem(N=10, T=200):\n",
    "    signals = np.random.uniform(low=0.0, high = 1.0, size=(N,T))\n",
    "    masks = np.zeros((N, T))\n",
    "    for i in range(N):\n",
    "        masks[i] = mask(T)\n",
    "        \n",
    "    data = np.zeros((N, T, 2))\n",
    "    data[:, :, 0] = signals[:]\n",
    "    data[:, :, 1] = masks[:]\n",
    "    target = (signals * masks).sum(axis =1).reshape(N, 1)\n",
    "    \n",
    "    return (data, target)"
   ]
  },
  {
   "cell_type": "code",
   "execution_count": 3,
   "metadata": {},
   "outputs": [
    {
     "name": "stdout",
     "output_type": "stream",
     "text": [
      " s=0.3727\tm=0\n",
      " s=0.6406\tm=0\n",
      " s=0.1453\tm=1\n",
      " s=0.7151\tm=0\n",
      " s=0.3886\tm=1\n",
      " s=0.1454\tm=0\n",
      " s=0.8361\tm=0\n",
      " s=0.1201\tm=0\n",
      "0 -------------------   y = 0.5339\n",
      "\n",
      " s=0.8487\tm=0\n",
      " s=0.4866\tm=1\n",
      " s=0.3394\tm=0\n",
      " s=0.4808\tm=0\n",
      " s=0.1159\tm=0\n",
      " s=0.7273\tm=0\n",
      " s=0.5736\tm=1\n",
      " s=0.5462\tm=0\n",
      "1 -------------------   y = 1.0602\n",
      "\n"
     ]
    }
   ],
   "source": [
    "N = 2\n",
    "T = 8\n",
    "\n",
    "maxlen = T\n",
    "X, Y = toy_problem(N=N, T=T)\n",
    "\n",
    "def print_data(X, Y):\n",
    "    \n",
    "    for i in range(len(X)):\n",
    "        \n",
    "\n",
    "        for item in X[i]:\n",
    "            print(' s={:.4f}\\tm={}'.format( item[0], int(item[1])))\n",
    "        print(\"{} -------------------   y = {:.4f}\\n\".format(i, Y[i][0]))\n",
    "        \n",
    "print_data(X, Y)"
   ]
  },
  {
   "cell_type": "code",
   "execution_count": 4,
   "metadata": {},
   "outputs": [],
   "source": [
    "N = 10000\n",
    "T = 200\n",
    "\n",
    "maxlen = T\n",
    "X, Y = toy_problem(N=N, T=T)"
   ]
  },
  {
   "cell_type": "code",
   "execution_count": 5,
   "metadata": {},
   "outputs": [],
   "source": [
    "N_train = int(N * 0.9)\n",
    "N_validation= N - N_train\n",
    "\n",
    "X_train, X_validation , Y_train, Y_validation = train_test_split(X, Y , test_size = N_validation)"
   ]
  },
  {
   "cell_type": "code",
   "execution_count": 6,
   "metadata": {},
   "outputs": [
    {
     "name": "stdout",
     "output_type": "stream",
     "text": [
      "X_train shape  (9000, 200, 2)\n",
      "Y_train shape  (9000, 1)\n",
      "X_train length: 9000\n"
     ]
    }
   ],
   "source": [
    "print('X_train shape  {}'.format(X_train.shape))\n",
    "print('Y_train shape  {}'.format(Y_train.shape))\n",
    "print('X_train length: {}'.format(len(X_train)))"
   ]
  },
  {
   "cell_type": "markdown",
   "metadata": {},
   "source": [
    "## 定义网络 误差函数和训练方法"
   ]
  },
  {
   "cell_type": "code",
   "execution_count": 7,
   "metadata": {},
   "outputs": [],
   "source": [
    "# 定义网络\n",
    "def inference(x, cell, n_batch, maxlen=None, n_hidden=None, n_out=None):\n",
    "    def weight_variable(shape):\n",
    "        initial = tf.truncated_normal(shape, stddev=0.01)\n",
    "        return tf.Variable(initial)\n",
    "    \n",
    "    def bias_variable(shape):\n",
    "        initial = tf.zeros(shape, dtype=tf.float32)\n",
    "        return tf.Variable(initial)\n",
    "    \n",
    "#     cell = tf.contrib.rnn.BasicRNNCell(n_hidden)\n",
    "#     cell = tf.contrib.rnn.BasicLSTMCell(n_hidden)\n",
    "    initial_state = cell.zero_state(n_batch, tf.float32)\n",
    "    \n",
    "    state = initial_state\n",
    "    outputs = []\n",
    "    with tf.variable_scope('RNN'):\n",
    "        for t in range(maxlen):\n",
    "            if t>0:\n",
    "                tf.get_variable_scope().reuse_variables()\n",
    "            (cell_output, state) = cell(x[:, t, :], state)\n",
    "            outputs.append(cell_output)\n",
    "            \n",
    "    output = outputs[-1]\n",
    "    \n",
    "    V = weight_variable([n_hidden, n_out])\n",
    "    c = bias_variable([n_out])\n",
    "    y = tf.matmul(output, V) + c\n",
    "    \n",
    "    return y\n",
    "\n",
    "# 均方差误差\n",
    "def loss(y, t):\n",
    "    return tf.reduce_mean(tf.square(y-t))\n",
    "\n",
    "# 训练方法 AdamOptimizer\n",
    "def training(loss):\n",
    "    optimizer = tf.train.AdamOptimizer(learning_rate=0.001, beta1=0.9, beta2=0.999)\n",
    "    \n",
    "    train_step = optimizer.minimize(loss)\n",
    "    return train_step\n",
    "        "
   ]
  },
  {
   "cell_type": "code",
   "execution_count": 8,
   "metadata": {},
   "outputs": [],
   "source": [
    "# 连续若干次没有提升精确率， 就停止训练\n",
    "class EarlyStopping():\n",
    "    def __init__(self, patience=0, verbose=0):\n",
    "        self._step =0\n",
    "        self._loss = float('inf')\n",
    "        self.patience = patience\n",
    "        self.verbose = verbose\n",
    "        \n",
    "    def validate(self, loss):\n",
    "        if self._loss < loss:\n",
    "            self._step += 1\n",
    "            if self._step > self.patience:\n",
    "                if self.verbose:\n",
    "                    print('early stopping {}'.format(self._step))\n",
    "                return True\n",
    "            else:\n",
    "                self._step = 0\n",
    "                self._loss = loss\n",
    "            \n",
    "            return false"
   ]
  },
  {
   "cell_type": "markdown",
   "metadata": {},
   "source": [
    "## 设置参数"
   ]
  },
  {
   "cell_type": "code",
   "execution_count": 9,
   "metadata": {},
   "outputs": [
    {
     "name": "stdout",
     "output_type": "stream",
     "text": [
      "WARNING:tensorflow:\n",
      "The TensorFlow contrib module will not be included in TensorFlow 2.0.\n",
      "For more information, please see:\n",
      "  * https://github.com/tensorflow/community/blob/master/rfcs/20180907-contrib-sunset.md\n",
      "  * https://github.com/tensorflow/addons\n",
      "  * https://github.com/tensorflow/io (for I/O related ops)\n",
      "If you depend on functionality not listed there, please file an issue.\n",
      "\n",
      "WARNING:tensorflow:From <ipython-input-9-c75880e51b83>:16: BasicLSTMCell.__init__ (from tensorflow.python.ops.rnn_cell_impl) is deprecated and will be removed in a future version.\n",
      "Instructions for updating:\n",
      "This class is equivalent as tf.keras.layers.LSTMCell, and will be replaced by that in Tensorflow 2.0.\n",
      "WARNING:tensorflow:From /home/ec2-user/anaconda3/envs/tensorflow_p36/lib/python3.6/site-packages/tensorflow/python/ops/init_ops.py:1251: calling VarianceScaling.__init__ (from tensorflow.python.ops.init_ops) with dtype is deprecated and will be removed in a future version.\n",
      "Instructions for updating:\n",
      "Call initializer instance with the dtype argument instead of passing it to the constructor\n",
      "WARNING:tensorflow:From /home/ec2-user/anaconda3/envs/tensorflow_p36/lib/python3.6/site-packages/tensorflow/python/ops/rnn_cell_impl.py:738: calling Zeros.__init__ (from tensorflow.python.ops.init_ops) with dtype is deprecated and will be removed in a future version.\n",
      "Instructions for updating:\n",
      "Call initializer instance with the dtype argument instead of passing it to the constructor\n"
     ]
    }
   ],
   "source": [
    "tf.reset_default_graph()\n",
    "lstm_history = {\n",
    "    'val_loss': []\n",
    "}\n",
    "\n",
    "n_in = len(X[0][0])\n",
    "n_hidden = 20\n",
    "n_out = len(Y[0])\n",
    "\n",
    "early_stopping = EarlyStopping(patience = 10, verbose=1)\n",
    "\n",
    "x = tf.placeholder(tf.float32, shape=[None, maxlen, n_in])\n",
    "t = tf.placeholder(tf.float32, shape=[None, n_out])\n",
    "n_batch = tf.placeholder(dtype=tf.int32, shape=[])\n",
    "\n",
    "cell = tf.contrib.rnn.BasicLSTMCell(n_hidden)\n",
    "\n",
    "y = inference(x, cell, n_batch, maxlen=maxlen, n_hidden=n_hidden, n_out=n_out)\n",
    "loss_ = loss(y, t)\n",
    "\n",
    "train_step = training(loss_)\n",
    "epochs = 200\n",
    "batch_size = 128"
   ]
  },
  {
   "cell_type": "markdown",
   "metadata": {},
   "source": [
    "## 进行训练"
   ]
  },
  {
   "cell_type": "code",
   "execution_count": 10,
   "metadata": {},
   "outputs": [
    {
     "name": "stdout",
     "output_type": "stream",
     "text": [
      "epoch: 0,  val loss: 0.17147813737392426\n",
      "epoch: 10,  val loss: 0.16716787219047546\n",
      "epoch: 20,  val loss: 0.16723208129405975\n",
      "epoch: 30,  val loss: 0.16737017035484314\n",
      "epoch: 40,  val loss: 0.1671610176563263\n",
      "epoch: 50,  val loss: 0.16717232763767242\n",
      "epoch: 60,  val loss: 0.16697929799556732\n",
      "epoch: 70,  val loss: 0.018566789105534554\n",
      "epoch: 80,  val loss: 0.016576269641518593\n",
      "epoch: 90,  val loss: 0.005324806086719036\n",
      "epoch: 100,  val loss: 0.004694924224168062\n",
      "epoch: 110,  val loss: 0.0031049950048327446\n",
      "epoch: 120,  val loss: 0.002672194968909025\n",
      "epoch: 130,  val loss: 0.002435452537611127\n",
      "epoch: 140,  val loss: 0.001532074878923595\n",
      "epoch: 150,  val loss: 0.0011548337060958147\n",
      "epoch: 160,  val loss: 0.0009312199545092881\n",
      "epoch: 170,  val loss: 0.0007638774695806205\n",
      "epoch: 180,  val loss: 0.000835736223962158\n",
      "epoch: 190,  val loss: 0.0030731833539903164\n",
      "epoch: 200,  val loss: 0.0004720991419162601\n",
      "epoch: 210,  val loss: 0.000463073723949492\n",
      "epoch: 220,  val loss: 0.0004922615480609238\n",
      "epoch: 230,  val loss: 0.0011137968394905329\n",
      "epoch: 240,  val loss: 0.00041862070793285966\n",
      "epoch: 250,  val loss: 0.00038759317249059677\n",
      "epoch: 260,  val loss: 0.00036852265475317836\n",
      "epoch: 300,  val loss: 0.0004470192070584744\n",
      "epoch: 310,  val loss: 0.00014711877156514674\n",
      "epoch: 320,  val loss: 0.0001408579555572942\n",
      "epoch: 330,  val loss: 0.00020337695605121553\n",
      "epoch: 340,  val loss: 0.00014523894060403109\n",
      "epoch: 350,  val loss: 0.00011779886699514464\n",
      "epoch: 360,  val loss: 0.00034949323162436485\n",
      "epoch: 370,  val loss: 0.00023117629461921751\n",
      "epoch: 380,  val loss: 9.743070404510945e-05\n",
      "epoch: 390,  val loss: 7.717560947639868e-05\n",
      "epoch: 400,  val loss: 8.292128040920943e-05\n",
      "epoch: 410,  val loss: 0.00013121150550432503\n",
      "epoch: 420,  val loss: 9.990776015911251e-05\n",
      "epoch: 430,  val loss: 0.000259523862041533\n",
      "epoch: 440,  val loss: 0.00013033526192884892\n",
      "epoch: 450,  val loss: 0.00033358531072735786\n",
      "epoch: 460,  val loss: 8.1067111750599e-05\n",
      "epoch: 470,  val loss: 6.52656817692332e-05\n",
      "epoch: 480,  val loss: 0.00013668798783328384\n",
      "epoch: 490,  val loss: 7.572437607450411e-05\n"
     ]
    }
   ],
   "source": [
    "%%time\n",
    "init = tf.global_variables_initializer()\n",
    "sess = tf.Session()\n",
    "sess.run(init)\n",
    "\n",
    "n_batches = N_train // batch_size\n",
    "\n",
    "for epoch in range(epochs):\n",
    "    X_, Y_ = shuffle(X_train, Y_train)\n",
    "    \n",
    "    for i in range(n_batches):\n",
    "            start = i * batch_size\n",
    "            end = start + batch_size\n",
    "            sess.run(train_step, feed_dict={\n",
    "                x: X_[start:end], \n",
    "                t: Y_[start:end], \n",
    "                n_batch: batch_size})\n",
    "            \n",
    "    val_loss = loss_.eval(session=sess, feed_dict={\n",
    "        x: X_validation,\n",
    "        t: Y_validation, \n",
    "        n_batch: N_validation\n",
    "    })\n",
    "    \n",
    "\n",
    "    lstm_history['val_loss'].append(val_loss)\n",
    "#     history['val_acc'].append(val_acc)\n",
    "    if epoch % 10 == 0 :\n",
    "        print('epoch: {},  val loss: {}'.format(epoch, val_loss))\n",
    "    if early_stopping.validate(val_loss):\n",
    "        break\n",
    "\n",
    "        \n"
   ]
  },
  {
   "cell_type": "code",
   "execution_count": null,
   "metadata": {},
   "outputs": [],
   "source": [
    "lstm_val_loss = lstm_history['val_loss']\n",
    "plt.plot(range(epochs), lstm_val_loss,label='acc' , color='red' )\n"
   ]
  },
  {
   "cell_type": "markdown",
   "metadata": {},
   "source": [
    "## 用RNN 训练"
   ]
  },
  {
   "cell_type": "code",
   "execution_count": 11,
   "metadata": {},
   "outputs": [
    {
     "name": "stdout",
     "output_type": "stream",
     "text": [
      "WARNING:tensorflow:From <ipython-input-11-8532fc44d9d7>:11: BasicRNNCell.__init__ (from tensorflow.python.ops.rnn_cell_impl) is deprecated and will be removed in a future version.\n",
      "Instructions for updating:\n",
      "This class is equivalent as tf.keras.layers.SimpleRNNCell, and will be replaced by that in Tensorflow 2.0.\n",
      "epoch: 0,  val loss: 0.16859638690948486\n",
      "epoch: 10,  val loss: 0.1673058271408081\n",
      "epoch: 20,  val loss: 0.16717372834682465\n",
      "epoch: 30,  val loss: 0.16723325848579407\n",
      "epoch: 40,  val loss: 0.16718731820583344\n",
      "epoch: 50,  val loss: 0.16738282144069672\n",
      "epoch: 60,  val loss: 0.16742773354053497\n",
      "epoch: 70,  val loss: 0.16718259453773499\n",
      "epoch: 80,  val loss: 0.1706978678703308\n",
      "epoch: 90,  val loss: 0.16715310513973236\n",
      "epoch: 100,  val loss: 0.16730903089046478\n",
      "epoch: 110,  val loss: 0.16695579886436462\n",
      "epoch: 120,  val loss: 0.16695739328861237\n",
      "epoch: 130,  val loss: 0.16482195258140564\n",
      "epoch: 140,  val loss: 0.1658288836479187\n",
      "epoch: 150,  val loss: 0.16606830060482025\n",
      "epoch: 160,  val loss: 0.16606982052326202\n",
      "epoch: 170,  val loss: 0.16372230648994446\n",
      "epoch: 180,  val loss: 0.16672538220882416\n",
      "epoch: 190,  val loss: 0.1661900132894516\n",
      "epoch: 200,  val loss: 0.1656341403722763\n",
      "epoch: 210,  val loss: 0.1680832803249359\n",
      "epoch: 220,  val loss: 0.16580022871494293\n",
      "epoch: 230,  val loss: 0.16589803993701935\n",
      "epoch: 240,  val loss: 0.1809554398059845\n",
      "epoch: 250,  val loss: 0.16630537807941437\n",
      "epoch: 260,  val loss: 0.16709084808826447\n",
      "epoch: 270,  val loss: 0.16579577326774597\n",
      "epoch: 280,  val loss: 0.15733027458190918\n",
      "epoch: 290,  val loss: 0.16062775254249573\n",
      "epoch: 300,  val loss: 0.16241061687469482\n",
      "epoch: 310,  val loss: 0.16508330404758453\n",
      "epoch: 320,  val loss: 0.16720257699489594\n",
      "epoch: 330,  val loss: 0.16785937547683716\n",
      "epoch: 340,  val loss: 0.16519302129745483\n",
      "epoch: 350,  val loss: 0.16420887410640717\n",
      "epoch: 360,  val loss: 0.1418229043483734\n",
      "epoch: 370,  val loss: 0.16525597870349884\n",
      "epoch: 380,  val loss: 0.16151440143585205\n",
      "epoch: 390,  val loss: 0.16374212503433228\n",
      "epoch: 400,  val loss: 0.15933389961719513\n",
      "epoch: 410,  val loss: 0.165058895945549\n",
      "epoch: 420,  val loss: 0.16520823538303375\n",
      "epoch: 430,  val loss: 0.1651565134525299\n",
      "epoch: 440,  val loss: 0.08388345688581467\n",
      "epoch: 450,  val loss: 0.16208750009536743\n",
      "epoch: 460,  val loss: 0.16727516055107117\n",
      "epoch: 470,  val loss: 0.16720645129680634\n",
      "epoch: 480,  val loss: 0.16518914699554443\n",
      "epoch: 490,  val loss: 0.12814144790172577\n"
     ]
    }
   ],
   "source": [
    "tf.reset_default_graph()\n",
    "rnn_history = {\n",
    "    'val_loss': []\n",
    "}\n",
    "\n",
    " \n",
    "x = tf.placeholder(tf.float32, shape=[None, maxlen, n_in])\n",
    "t = tf.placeholder(tf.float32, shape=[None, n_out])\n",
    "n_batch = tf.placeholder(dtype=tf.int32, shape=[])\n",
    "\n",
    "cell = tf.contrib.rnn.BasicRNNCell(n_hidden)\n",
    "\n",
    "y = inference(x, cell, n_batch, maxlen=maxlen, n_hidden=n_hidden, n_out=n_out)\n",
    "loss_ = loss(y, t)\n",
    "\n",
    "train_step = training(loss_)\n",
    "\n",
    "\n",
    "init = tf.global_variables_initializer()\n",
    "sess = tf.Session()\n",
    "sess.run(init)\n",
    "\n",
    "\n",
    "for epoch in range(epochs):\n",
    "    X_, Y_ = shuffle(X_train, Y_train)\n",
    "    \n",
    "    for i in range(n_batches):\n",
    "            start = i * batch_size\n",
    "            end = start + batch_size\n",
    "            sess.run(train_step, feed_dict={\n",
    "                x: X_[start:end], \n",
    "                t: Y_[start:end], \n",
    "                n_batch: batch_size})\n",
    "            \n",
    "    val_loss = loss_.eval(session=sess, feed_dict={\n",
    "        x: X_validation,\n",
    "        t: Y_validation, \n",
    "        n_batch: N_validation\n",
    "    })\n",
    "    \n",
    "\n",
    "    rnn_history['val_loss'].append(val_loss)\n",
    "#     history['val_acc'].append(val_acc)\n",
    "    if epoch % 10 == 0 :\n",
    "        print('epoch: {},  val loss: {}'.format(epoch, val_loss))\n",
    "    if early_stopping.validate(val_loss):\n",
    "        break\n"
   ]
  },
  {
   "cell_type": "code",
   "execution_count": 12,
   "metadata": {},
   "outputs": [
    {
     "data": {
      "text/plain": [
       "[<matplotlib.lines.Line2D at 0x7f00f2d39a20>]"
      ]
     },
     "execution_count": 12,
     "metadata": {},
     "output_type": "execute_result"
    },
    {
     "data": {
      "image/png": "[encoded data removed]",
      "text/plain": [
       "<Figure size 432x288 with 1 Axes>"
      ]
     },
     "metadata": {},
     "output_type": "display_data"
    }
   ],
   "source": [
    "lstm_val_loss = lstm_history['val_loss']\n",
    "rnn_val_loss = rnn_history['val_loss']\n",
    "plt.plot(range(epochs), lstm_val_loss,label='acc' , color='red' )\n",
    "plt.plot(range(epochs), rnn_val_loss,label='acc' , color='green' )"
   ]
  },
  {
   "cell_type": "markdown",
   "metadata": {},
   "source": [
    "绿色的曲线是普通RNN ， 一直不收敛， 无法发现长期的规律。 \n",
    "\n",
    "红色的曲线是LSTM， 在训练的过程中会学习到长期的规律， 预测准确率会迅速提升"
   ]
  },
  {
   "cell_type": "code",
   "execution_count": null,
   "metadata": {},
   "outputs": [],
   "source": []
  }
 ],
 "metadata": {
  "kernelspec": {
   "display_name": "Python [conda env:tensorflow_p36]",
   "language": "python",
   "name": "conda-env-tensorflow_p36-py"
  },
  "language_info": {
   "codemirror_mode": {
    "name": "ipython",
    "version": 3
   },
   "file_extension": ".py",
   "mimetype": "text/x-python",
   "name": "python",
   "nbconvert_exporter": "python",
   "pygments_lexer": "ipython3",
   "version": "3.6.5"
  }
 },
 "nbformat": 4,
 "nbformat_minor": 2
}
