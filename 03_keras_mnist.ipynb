{
 "cells": [
  {
   "cell_type": "markdown",
   "metadata": {},
   "source": [
    "# mnist LSTM 双向循环\n",
    "\n",
    "\n",
    "mnist 是一个手写字体库， 每张图片都是 28*28大小的数字图片， 包括从0-9 10个字符。\n",
    "\n",
    "把每一行做为一个序列， 使用双向LSTM进行训练\n",
    "\n",
    "\n",
    "下载数据集  https://dikers-data.s3.cn-northwest-1.amazonaws.com.cn/dataset/mnist-original.mat\n",
    "\n",
    "把数据下载到 ./datasets/mldata/mnist-original.mat\n",
    "\n",
    "```\n",
    "mkdir datasets/\n",
    "cd datasets\n",
    "mkdir mldata\n",
    "cd mldata\n",
    "wget https://dikers-data.s3.cn-northwest-1.amazonaws.com.cn/dataset/mnist-original.mat\n",
    "```"
   ]
  },
  {
   "cell_type": "code",
   "execution_count": 1,
   "metadata": {},
   "outputs": [
    {
     "name": "stderr",
     "output_type": "stream",
     "text": [
      "Using TensorFlow backend.\n"
     ]
    }
   ],
   "source": [
    "import numpy as np\n",
    "import matplotlib.pyplot as plt\n",
    "from keras.models import Sequential\n",
    "from keras.layers.core import Dense, Activation\n",
    "from keras.layers.recurrent import LSTM\n",
    "from keras.layers.wrappers import Bidirectional\n",
    "from keras.optimizers import Adam\n",
    "from keras.callbacks import EarlyStopping\n",
    "from sklearn import datasets\n",
    "from sklearn.model_selection import train_test_split\n",
    "from sklearn.utils import shuffle\n",
    "\n",
    "np.random.seed(0)\n"
   ]
  },
  {
   "cell_type": "markdown",
   "metadata": {},
   "source": [
    "## 数据的生成"
   ]
  },
  {
   "cell_type": "code",
   "execution_count": 2,
   "metadata": {},
   "outputs": [
    {
     "name": "stderr",
     "output_type": "stream",
     "text": [
      "/home/ec2-user/anaconda3/envs/python3/lib/python3.6/site-packages/sklearn/utils/deprecation.py:77: DeprecationWarning: Function fetch_mldata is deprecated; fetch_mldata was deprecated in version 0.20 and will be removed in version 0.22\n",
      "  warnings.warn(msg, category=DeprecationWarning)\n",
      "/home/ec2-user/anaconda3/envs/python3/lib/python3.6/site-packages/sklearn/utils/deprecation.py:77: DeprecationWarning: Function mldata_filename is deprecated; mldata_filename was deprecated in version 0.20 and will be removed in version 0.22\n",
      "  warnings.warn(msg, category=DeprecationWarning)\n"
     ]
    }
   ],
   "source": [
    "mnist = datasets.fetch_mldata('MNIST original', data_home='./datasets')\n"
   ]
  },
  {
   "cell_type": "code",
   "execution_count": 3,
   "metadata": {},
   "outputs": [
    {
     "name": "stdout",
     "output_type": "stream",
     "text": [
      "(16000, 28, 28)\n",
      "(16000, 10)\n"
     ]
    },
    {
     "name": "stderr",
     "output_type": "stream",
     "text": [
      "/home/ec2-user/anaconda3/envs/python3/lib/python3.6/site-packages/sklearn/model_selection/_split.py:2179: FutureWarning: From version 0.21, test_size will always complement train_size unless both are specified.\n",
      "  FutureWarning)\n"
     ]
    }
   ],
   "source": [
    " \n",
    "\n",
    "\n",
    "n = len(mnist.data)\n",
    "N = 30000  # 选取部分MNIST数据进行实验\n",
    "N_train = 20000\n",
    "N_validation = 4000\n",
    "indices = np.random.permutation(range(n))[:N]  # 随机选择N个数据\n",
    "\n",
    "X = mnist.data[indices]\n",
    "X = X / 255.0\n",
    "X = X - X.mean(axis=1).reshape(len(X), 1)\n",
    "X = X.reshape(len(X), 28, 28)  # 转换为时间序列数据\n",
    "y = mnist.target[indices]\n",
    "Y = np.eye(10)[y.astype(int)]  # 转换为1-of-K形式\n",
    "\n",
    "X_train, X_test, Y_train, Y_test = \\\n",
    "    train_test_split(X, Y, train_size=N_train)\n",
    "\n",
    "X_train, X_validation, Y_train, Y_validation = \\\n",
    "    train_test_split(X_train, Y_train, test_size=N_validation)\n",
    "\n",
    "print(X_train.shape)\n",
    "print(Y_train.shape)"
   ]
  },
  {
   "cell_type": "code",
   "execution_count": 4,
   "metadata": {},
   "outputs": [
    {
     "data": {
      "text/plain": [
       "<matplotlib.image.AxesImage at 0x7f7ec457d470>"
      ]
     },
     "execution_count": 4,
     "metadata": {},
     "output_type": "execute_result"
    },
    {
     "data": {
      "image/png": "[encoded data removed]",
      "text/plain": [
       "<Figure size 432x288 with 1 Axes>"
      ]
     },
     "metadata": {},
     "output_type": "display_data"
    }
   ],
   "source": [
    "img = X_train[0].reshape(28, 28)\n",
    "plt.imshow(img, cmap='Greys', interpolation='nearest')"
   ]
  },
  {
   "cell_type": "markdown",
   "metadata": {},
   "source": [
    "## 模型的设置"
   ]
  },
  {
   "cell_type": "code",
   "execution_count": 9,
   "metadata": {},
   "outputs": [],
   "source": [
    "\n",
    "n_in = 28\n",
    "n_time = 28\n",
    "n_hidden = 128\n",
    "n_out = 10\n",
    "\n",
    "\n",
    "def weight_variable(shape, name=None):\n",
    "    return np.random.normal(scale=.01, size=shape)\n",
    "\n",
    "\n",
    "early_stopping = EarlyStopping(monitor='val_loss', patience=10, verbose=1)\n",
    "\n",
    "model = Sequential()\n",
    "\n",
    "# 双向LSTM  Bidirectional\n",
    "model.add(Bidirectional(LSTM(n_hidden),\n",
    "                        input_shape=(n_time, n_in)))\n",
    "# , kernel_initializer=weight_variable)\n",
    "model.add(Dense(n_out))\n",
    "model.add(Activation('softmax'))\n",
    "\n",
    "model.compile(loss='categorical_crossentropy',\n",
    "              optimizer=Adam(lr=0.001, beta_1=0.9, beta_2=0.999),\n",
    "              metrics=['accuracy'])\n",
    "\n",
    "\n",
    "\n"
   ]
  },
  {
   "cell_type": "markdown",
   "metadata": {},
   "source": [
    "## 模型的训练"
   ]
  },
  {
   "cell_type": "code",
   "execution_count": 14,
   "metadata": {},
   "outputs": [
    {
     "name": "stdout",
     "output_type": "stream",
     "text": [
      "Train on 16000 samples, validate on 4000 samples\n",
      "Epoch 1/30\n",
      "16000/16000 [==============================] - 7s 466us/step - loss: 0.0287 - accuracy: 0.9912 - val_loss: 0.1064 - val_accuracy: 0.9672\n",
      "Epoch 2/30\n",
      "16000/16000 [==============================] - 8s 478us/step - loss: 0.0263 - accuracy: 0.9912 - val_loss: 0.0968 - val_accuracy: 0.9735\n",
      "Epoch 3/30\n",
      "16000/16000 [==============================] - 7s 466us/step - loss: 0.0295 - accuracy: 0.9912 - val_loss: 0.0999 - val_accuracy: 0.9703\n",
      "Epoch 4/30\n",
      "16000/16000 [==============================] - 7s 466us/step - loss: 0.0356 - accuracy: 0.9884 - val_loss: 0.1098 - val_accuracy: 0.9700\n",
      "Epoch 5/30\n",
      "16000/16000 [==============================] - 7s 466us/step - loss: 0.0266 - accuracy: 0.9919 - val_loss: 0.1163 - val_accuracy: 0.9703\n",
      "Epoch 6/30\n",
      "16000/16000 [==============================] - 7s 467us/step - loss: 0.0211 - accuracy: 0.9927 - val_loss: 0.1069 - val_accuracy: 0.9722\n",
      "Epoch 7/30\n",
      "16000/16000 [==============================] - 7s 466us/step - loss: 0.0183 - accuracy: 0.9942 - val_loss: 0.1013 - val_accuracy: 0.9750\n",
      "Epoch 8/30\n",
      "16000/16000 [==============================] - 7s 467us/step - loss: 0.0127 - accuracy: 0.9967 - val_loss: 0.0901 - val_accuracy: 0.9778\n",
      "Epoch 9/30\n",
      "16000/16000 [==============================] - 7s 466us/step - loss: 0.0088 - accuracy: 0.9977 - val_loss: 0.0861 - val_accuracy: 0.9780\n",
      "Epoch 10/30\n",
      "16000/16000 [==============================] - 7s 466us/step - loss: 0.0082 - accuracy: 0.9977 - val_loss: 0.0937 - val_accuracy: 0.9760\n",
      "Epoch 11/30\n",
      "16000/16000 [==============================] - 7s 465us/step - loss: 0.0140 - accuracy: 0.9958 - val_loss: 0.0897 - val_accuracy: 0.9737\n",
      "Epoch 12/30\n",
      "16000/16000 [==============================] - 7s 466us/step - loss: 0.0339 - accuracy: 0.9879 - val_loss: 0.1166 - val_accuracy: 0.9678\n",
      "Epoch 13/30\n",
      "16000/16000 [==============================] - 7s 465us/step - loss: 0.0239 - accuracy: 0.9920 - val_loss: 0.0967 - val_accuracy: 0.9737\n",
      "Epoch 14/30\n",
      "16000/16000 [==============================] - 7s 466us/step - loss: 0.0121 - accuracy: 0.9966 - val_loss: 0.0790 - val_accuracy: 0.9785\n",
      "Epoch 15/30\n",
      "16000/16000 [==============================] - 7s 467us/step - loss: 0.0064 - accuracy: 0.9982 - val_loss: 0.0859 - val_accuracy: 0.9780\n",
      "Epoch 16/30\n",
      "16000/16000 [==============================] - 7s 469us/step - loss: 0.0121 - accuracy: 0.9966 - val_loss: 0.0969 - val_accuracy: 0.9735\n",
      "Epoch 17/30\n",
      "16000/16000 [==============================] - 7s 466us/step - loss: 0.0132 - accuracy: 0.9958 - val_loss: 0.1007 - val_accuracy: 0.9743\n",
      "Epoch 18/30\n",
      "16000/16000 [==============================] - 7s 466us/step - loss: 0.0103 - accuracy: 0.9971 - val_loss: 0.0954 - val_accuracy: 0.9755\n",
      "Epoch 19/30\n",
      "16000/16000 [==============================] - 7s 466us/step - loss: 0.0076 - accuracy: 0.9981 - val_loss: 0.1253 - val_accuracy: 0.9712\n",
      "Epoch 20/30\n",
      "16000/16000 [==============================] - 7s 466us/step - loss: 0.0167 - accuracy: 0.9950 - val_loss: 0.0949 - val_accuracy: 0.9765\n",
      "Epoch 21/30\n",
      "16000/16000 [==============================] - 7s 467us/step - loss: 0.0080 - accuracy: 0.9977 - val_loss: 0.1136 - val_accuracy: 0.9720\n",
      "Epoch 22/30\n",
      "16000/16000 [==============================] - 7s 466us/step - loss: 0.0140 - accuracy: 0.9951 - val_loss: 0.1021 - val_accuracy: 0.9728\n",
      "Epoch 23/30\n",
      "16000/16000 [==============================] - 7s 467us/step - loss: 0.0131 - accuracy: 0.9956 - val_loss: 0.1107 - val_accuracy: 0.9722\n",
      "Epoch 24/30\n",
      "16000/16000 [==============================] - 7s 467us/step - loss: 0.0100 - accuracy: 0.9971 - val_loss: 0.0795 - val_accuracy: 0.9797\n",
      "Epoch 00024: early stopping\n"
     ]
    }
   ],
   "source": [
    "epochs = 30\n",
    "batch_size = 128\n",
    "hist = model.fit(X_train, Y_train,\n",
    "                 batch_size=batch_size,\n",
    "                 epochs=epochs,\n",
    "                 validation_data=(X_validation, Y_validation),\n",
    "                 callbacks=[early_stopping])\n"
   ]
  },
  {
   "cell_type": "code",
   "execution_count": 15,
   "metadata": {},
   "outputs": [
    {
     "name": "stdout",
     "output_type": "stream",
     "text": [
      "[0.9672499895095825, 0.9735000133514404, 0.9702500104904175, 0.9700000286102295, 0.9702500104904175, 0.9722499847412109, 0.9750000238418579, 0.9777500033378601, 0.9779999852180481, 0.9760000109672546, 0.9737499952316284, 0.9677500128746033, 0.9737499952316284, 0.9785000085830688, 0.9779999852180481, 0.9735000133514404, 0.9742500185966492, 0.9754999876022339, 0.9712499976158142, 0.9764999747276306, 0.972000002861023, 0.9727500081062317, 0.9722499847412109, 0.9797499775886536]\n"
     ]
    }
   ],
   "source": [
    "print(hist.history['val_accuracy'])"
   ]
  },
  {
   "cell_type": "markdown",
   "metadata": {},
   "source": [
    "## 训练进度情况可视化"
   ]
  },
  {
   "cell_type": "code",
   "execution_count": 16,
   "metadata": {},
   "outputs": [
    {
     "data": {
      "image/png": "[encoded data removed]",
      "text/plain": [
       "<Figure size 432x288 with 1 Axes>"
      ]
     },
     "metadata": {},
     "output_type": "display_data"
    }
   ],
   "source": [
    "acc = hist.history['val_accuracy']\n",
    "loss = hist.history['val_loss']\n",
    "\n",
    "plt.rc('font', family='serif')\n",
    "fig = plt.figure()\n",
    "plt.plot(range(len(loss)), loss,\n",
    "         label='loss', color='black')\n",
    "plt.xlabel('epochs')\n",
    "plt.show()\n"
   ]
  },
  {
   "cell_type": "code",
   "execution_count": null,
   "metadata": {},
   "outputs": [
    {
     "data": {
      "image/png": "[encoded data removed]",
      "text/plain": [
       "<Figure size 432x288 with 1 Axes>"
      ]
     },
     "metadata": {},
     "output_type": "display_data"
    }
   ],
   "source": [
    "plt.rc('font', family='serif')\n",
    "fig = plt.figure()\n",
    "plt.plot(range(len(acc)), acc,\n",
    "         label='acc', color='red')\n",
    "plt.xlabel('epochs')\n",
    "plt.show()\n"
   ]
  },
  {
   "cell_type": "markdown",
   "metadata": {},
   "source": [
    "## 评估预测精度"
   ]
  },
  {
   "cell_type": "code",
   "execution_count": null,
   "metadata": {},
   "outputs": [],
   "source": [
    "loss_and_metrics = model.evaluate(X_test, Y_test)\n",
    "print(loss_and_metrics)"
   ]
  }
 ],
 "metadata": {
  "kernelspec": {
   "display_name": "Python [conda env:python3]",
   "language": "python",
   "name": "conda-env-python3-py"
  },
  "language_info": {
   "codemirror_mode": {
    "name": "ipython",
    "version": 3
   },
   "file_extension": ".py",
   "mimetype": "text/x-python",
   "name": "python",
   "nbconvert_exporter": "python",
   "pygments_lexer": "ipython3",
   "version": "3.6.5"
  }
 },
 "nbformat": 4,
 "nbformat_minor": 2
}
